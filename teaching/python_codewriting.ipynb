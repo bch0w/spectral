{
 "cells": [
  {
   "cell_type": "markdown",
   "id": "c7eece3d",
   "metadata": {},
   "source": [
    "Python Codewriting\n",
    "====================\n",
    "written by Bryant Chow (04/06/22)\n",
    "\n",
    "Used to help others write better Python code, following PEP standards for modularity, simplicity, readability etc. More or less structured from top to bottom of a python script. Not really into the territory of packages yet, but defining functions, adhereing to PEP etc. This is mostly related to coding in Python 3.7, which is currently outdated (3.10 is the most up to date version as of today), but is generally applicable to Python3\n",
    "\n",
    "### TO DO:\n",
    "- assertions\n",
    "- try/except"
   ]
  },
  {
   "cell_type": "markdown",
   "id": "f0bbd355",
   "metadata": {},
   "source": [
    "### From the top down\n",
    "\n",
    "**Shebang**: That first-line comment. I don't always put this, but it just tells the system what program is used to run this script, so that you can run ./python_script.py, as opossed to python python_script.py\n",
    "\n",
    "**Docstring**: explains what a script/code does, because it is really easy to forget why you wrote something. I always start with this docstring and explain (first to myself, later to others) why I have decided to start writing code in a new file. This is a users first point of entry to your script, so the idea is that they should know what your code does before reading your code (sort of like an abstract?)\n",
    "\n",
    "**(optional) Line length**: I try to keep all my codes at an 80 character max line length (PyCharm, Sublime Text, Vim etc., all have ways to denote line length and even auto-wrap when you exceed, these are your friend). This is a stylistic choice and does not affect the code, but I find it looks cleaner and makes it easier to work with multiple codes at once. 80 is maybe too short for some, probably the best advice is pick a number and stick with it: 80, 120, 140, 200 are common choices."
   ]
  },
  {
   "cell_type": "code",
   "execution_count": null,
   "id": "d6b5a6b7",
   "metadata": {},
   "outputs": [],
   "source": [
    "#!/usr/bin/env python3\n",
    "\"\"\"\n",
    "This is the docstring. This script is written to do ABC by taking advantage of XYZ. \n",
    "It takes X as inputs and produces Y as output files.\n",
    "\"\"\""
   ]
  },
  {
   "cell_type": "markdown",
   "id": "b1f3a314",
   "metadata": {},
   "source": [
    "**Import statements**: Should follow PEP-8 (https://peps.python.org/pep-0008/#imports), imports first, then \"from\" imports etc. I like to leave newlines between different import styles to visually separate them. Locally defined functions should come at the end. Some important points:\n",
    "- Don't * import, it makes it incredibly difficult to figure out where things are being imported from (i.e., from numpy import \\*)\n",
    "- One import statement per line, that way if you get an ImportError, you know where it's coming from"
   ]
  },
  {
   "cell_type": "code",
   "execution_count": null,
   "id": "f0ca01ca",
   "metadata": {},
   "outputs": [],
   "source": [
    "import os\n",
    "import sys\n",
    "import numpy as np\n",
    "import matplotlib.pyplot as plt\n",
    "\n",
    "from obspy import read, Stream\n",
    "\n",
    "from my_package import my_function"
   ]
  },
  {
   "cell_type": "markdown",
   "id": "ed569d2a",
   "metadata": {},
   "source": [
    "**Constants**: Should be all caps, defined after imports. I try to avoid constants unless I feel like I need them, because I don't want to get into the habit of having \"global\" variables. If I'm defining a constant, I usually ask myself, \"does this need to be a constant\"? In any case, they have their uses. "
   ]
  },
  {
   "cell_type": "code",
   "execution_count": 1,
   "id": "9e8434c0",
   "metadata": {},
   "outputs": [],
   "source": [
    "DEGREES_TO_RADIANS = np.pi / 180."
   ]
  },
  {
   "cell_type": "markdown",
   "id": "9c639c8b",
   "metadata": {},
   "source": [
    "**Functions**: All functions defined next. Don't define functions mid script, this makes it difficult to find them. While you're at it, don't define variables mid-script. The idea here is that we are trying to keep things compartmentalized. All my parameters are in one place, all my functions are in another, if I have to go hunting for something, I know where to start.\n",
    "\n",
    "- Function names (and variable names) should be **verbose and explanative**. People say that code should be \"self-documenting\", i.e., the user should be able to read your function/variable name ONLY, and figure out what it is/does (but don't go crazy; it's an art picking reasonable variable/function names)\n",
    "- Functions should be **short**, they should do one thing. If it does multiple things, split it up. If your function is getting >50-100 lines, it's probably too long. Lots of small functions are better than a few large ones. \n",
    "- Use **snake_case** (as per PEP-8 https://peps.python.org/pep-0008/#function-and-variable-names\n",
    "    - this_is_snake_case (for functions, variables)\n",
    "    - thisIsCamelCase (not used in Python)\n",
    "    - ThisIsPascalCase (for classes, not explained here)\n",
    "- Functions should have **docstrings** explaining their inputs and outputs. Pick a a convention and stick to it for consistency (https://stackoverflow.com/questions/3898572/what-are-the-most-common-python-docstring-formats). \n",
    "    - I use reST (see above link) which is what ObsPy uses (e.g., https://docs.obspy.org/_modules/obspy/core/stream.html#Stream) \n",
    "    - Since Python3.7 you can do **type hinting**, which is better practice (https://docs.python.org/3/library/typing.html). Probably you should **get used to type hinting** so I will try to show some examples.\n",
    "    - Currently type hinting is mostly aesthetic (although PyCharm can use it to check your code) but I think the Python dev team wants to incorporate it more heavily into the the language in future releases\n"
   ]
  },
  {
   "cell_type": "code",
   "execution_count": null,
   "id": "684a1b4f",
   "metadata": {},
   "outputs": [],
   "source": [
    "# This is reST format docstring\n",
    "def normalize_a_to_b(array, a=0, b=1):\n",
    "    \"\"\"\n",
    "    normalize an array from a to b for e.g. plotting, maths\n",
    "    \n",
    "    :type array: list\n",
    "    :param array: values to be normalized\n",
    "    :type a: int\n",
    "    :param a: lower bound of normalization\n",
    "    :type b: int\n",
    "    :param b: upper bound of normalization\n",
    "    :rtype z: numpy.array\n",
    "    :return z: normalized array\n",
    "    \"\"\"\n",
    "    array = np.array(array)\n",
    "    z = ((b-a) * (array-array.min()) / (array.max()-array.min())) + a\n",
    "\n",
    "    return z\n",
    "\n",
    "# This is with type hinting, I'm not very used to this so it may be wrong\n",
    "def normalize_a_to_b(array: list, a=0: int, b=1: int) -> np.array:\n",
    "    \"\"\"\n",
    "    normalize an array from a to b for e.g. plotting, maths\n",
    "    \n",
    "    :param array: values to be normalized\n",
    "    :param a: lower bound of normalization\n",
    "    :param b: upper bound of normalization\n",
    "    :return z: normalized array\n",
    "    \"\"\"\n",
    "    array = np.array(array)\n",
    "    z = ((b-a) * (array-array.min()) / (array.max()-array.min())) + a\n",
    "\n",
    "    return z"
   ]
  },
  {
   "cell_type": "markdown",
   "id": "e060eade",
   "metadata": {},
   "source": [
    "----------------\n",
    "\n",
    "Below are some examples of how you can refactor existing code into smaller functions, with comments on improving readability of code, reducing verbosity, and generally making things more \"pythonic\"\n",
    "\n",
    "### ORIGINAL"
   ]
  },
  {
   "cell_type": "code",
   "execution_count": null,
   "id": "9cd719c9",
   "metadata": {},
   "outputs": [],
   "source": [
    "# P and S arrival window\n",
    "if depth == '050':\n",
    "    # 50km depth source\n",
    "    if stn[2] == '1': \n",
    "        dt1_p = 5; dt2_p = 10; dt1_s = 12; dt2_s = 16        #R01\n",
    "    elif stn[2] == '2':\n",
    "        dt1_p = 9; dt2_p = 13; dt1_s = 16; dt2_s = 21        #R02\n",
    "    elif stn[2] == '3':\n",
    "        dt1_p = 12; dt2_p = 16; dt1_s = 22; dt2_s = 26       #R03\n",
    "\n",
    "elif depth == '100':\n",
    "    # 100km depth source  \n",
    "    if stn[2] == '1':\n",
    "        dt1_p = 12; dt2_p = 16; dt1_s = 22; dt2_s = 26        #R01\n",
    "    elif stn[2] == '2':\n",
    "        dt1_p = 13; dt2_p = 17; dt1_s = 25; dt2_s = 29        #R02\n",
    "    elif stn[2] == '3':\n",
    "        dt1_p = 16; dt2_p = 19; dt1_s = 29; dt2_s = 33        #R03\n",
    "\n",
    "elif depth == '150':\n",
    "    # 150km depth source\n",
    "    if stn[2] == '1':\n",
    "        dt1_p = 18; dt2_p = 21; dt1_s = 33; dt2_s = 37        #R01\n",
    "    elif stn[2] == '2':\n",
    "        dt1_p = 19; dt2_p = 23; dt1_s = 35; dt2_s = 39        #R02\n",
    "    elif stn[2] == '3':\n",
    "        dt1_p = 20; dt2_p = 25; dt1_s = 37; dt2_s = 42        #R03"
   ]
  },
  {
   "cell_type": "markdown",
   "id": "caffd786",
   "metadata": {},
   "source": [
    "### SUGGESTION\n",
    "- Try to adhere to types, i.e., rather than comparing to '1' (string) you should probably be comparing to 1 (integer). Otherwise you can have funny things happen, e.g., if your string is ' 1' or '01', these won't evaluate.\n",
    "- Try not to define multiple things with semicolons on a single line, so rather than\n",
    "        dt1_p = 5; dt2_p = 10; dt1_s = 12; dt2_s = 16       \n",
    "  you can do something like this:\n",
    "              dt1_p = 5\n",
    "              dt2_p = 10\n",
    "              dt1_s = 12\n",
    "              dt2_s = 16        \n",
    "  or something like this:\n",
    "              dt1_p, dt2_p, dt1_s, dt2_s = 5, 10, 12, 16\n",
    "  also these variable names could be clearer\n",
    "- Try to avoid redundant comments (I am also guilty of this, good comments are hard to get right)  \n",
    "\n",
    "        if depth == '050':\n",
    "        # 50km depth source  < redundant; if statement already tells you it's 50km depth\n",
    "- aside: I read somewhere that some companies mandate their programmers NOT use comments, thereby forcing them to make the code itself more readable. This is an extreme case, but gives you an idea of what we're aiming for here."
   ]
  },
  {
   "cell_type": "code",
   "execution_count": null,
   "id": "b2d51be5",
   "metadata": {},
   "outputs": [],
   "source": [
    "# EDITED\n",
    "def get_p_s_arrival_window(station_number: int, depth_km: int) -> tuple:\n",
    "    \"\"\"\n",
    "    Return P and S time windows given a station number and event depth\n",
    "    \n",
    "    :param station_number: identifying value describing the station\n",
    "        we want to get arrivals for\n",
    "    :param depth_km: event depth in units of kilometers\n",
    "    :rtype: (int, int, int, int)\n",
    "    :return: (p-wave start time in seconds, p-wave end time in seconds\n",
    "        s-wave start time in seconds, s-wave end time in seconds)\n",
    "    \"\"\"\n",
    "    if depth_km == 50:\n",
    "        if station_number == 1:\n",
    "            p_start_s = 5\n",
    "            p_end_s = 10\n",
    "            s_start_s = 12\n",
    "            s_end_s = 16\n",
    "        elif station_number == 2:\n",
    "            # ...\n",
    "    elif depth_km == 100:\n",
    "        # ...\n",
    "        \n",
    "    return p_start_s, p_end_s, s_start_s, s_end_s"
   ]
  },
  {
   "cell_type": "markdown",
   "id": "072cebc7",
   "metadata": {},
   "source": [
    "### ORIGINAL"
   ]
  },
  {
   "cell_type": "code",
   "execution_count": 4,
   "id": "eea440b3",
   "metadata": {},
   "outputs": [
    {
     "name": "stdout",
     "output_type": "stream",
     "text": [
      "['R01-01', 'R01-02', 'R01-03', 'R01-04', 'R01-05', 'R01-06', 'R01-07', 'R01-08', 'R01-09', 'R01-10', 'R01-11']\n"
     ]
    }
   ],
   "source": [
    "#station names for sorting\n",
    "s = []\n",
    "stn = 'R01-**'  \n",
    "n = 11\n",
    "for i in range(n):\n",
    "\n",
    "    if i<9:\n",
    "        s.append(stn[0:4] + '0' + str(i+1))\n",
    "    else:\n",
    "        s.append(stn[0:4] + str(i+1))\n",
    "print(s)"
   ]
  },
  {
   "cell_type": "markdown",
   "id": "e4636752",
   "metadata": {},
   "source": [
    "### SUGGESTION\n",
    "\n",
    "- Try to make string formatters more easily readable by using f-strings (https://peps.python.org/pep-0498)\n",
    "- Avoid doing multiple string additions as it's verbose and hard to parse visually, one-offs are okay\n",
    "- The double \\** doesn't mean anything, single star (*) is a wildcard for any number of characters, whereas a question mark (?) represents a single character. If you want to wildcard two digits after the station name, you can use 'R01-??'"
   ]
  },
  {
   "cell_type": "code",
   "execution_count": 16,
   "id": "9554d416",
   "metadata": {},
   "outputs": [
    {
     "name": "stdout",
     "output_type": "stream",
     "text": [
      "['R01-00', 'R01-01', 'R01-02', 'R01-03', 'R01-04', 'R01-05', 'R01-06', 'R01-07', 'R01-08', 'R01-09', 'R01-10']\n",
      "\n",
      "\n",
      "['R01-00', 'R01-01', 'R01-02', 'R01-03', 'R01-04', 'R01-05', 'R01-06', 'R01-07', 'R01-08', 'R01-09', 'R01-10']\n"
     ]
    }
   ],
   "source": [
    "# Again, verbose station names, I want to know what you're defining!\n",
    "stations = []\n",
    "nstations = 11\n",
    "station_name = \"R01\"\n",
    "station_wildcard = f\"{station_name}-??\"\n",
    "\n",
    "# The f-string makes it a bit easier to follow what you're trying to create\n",
    "for i in range(nstations):\n",
    "    stations.append(f\"{station_name}-{i:0>2}\")\n",
    "print(stations)\n",
    "\n",
    "print(\"\\n\")\n",
    "# this can also be a one line list comprehension, these are fun but don't go crazy with them\n",
    "stations = [f\"{station_name}-{i:0>2}\" for i in range(nstations)]\n",
    "print(stations)"
   ]
  },
  {
   "cell_type": "markdown",
   "id": "eeabf701",
   "metadata": {},
   "source": [
    "### ORIGINAL"
   ]
  },
  {
   "cell_type": "code",
   "execution_count": null,
   "id": "ad2b71fb",
   "metadata": {},
   "outputs": [],
   "source": [
    "comp = 'R'\n",
    "if comp == 'R' or comp == 'T':\n",
    "\n",
    "    # rotation for obtaining R and T components\n",
    "    if UTM:\n",
    "\n",
    "        st_a_N = st_a.select(station=stn,component='Y')\n",
    "        st_a_E = st_a.select(station=stn,component='X')\n",
    "        st_b_N = st_b.select(station=stn,component='Y')\n",
    "        st_b_E = st_b.select(station=stn,component='X')\n",
    "\n",
    "        dtr = np.pi/180 #degree to radian\n",
    "\n",
    "        if comp == 'R':\n",
    "\n",
    "            for i in range(n):\n",
    "\n",
    "                for st1 in st_a_N:\n",
    "                    if s[i] == st1.stats.station:\n",
    "                        for st2 in st_a_E:\n",
    "                            if s[i] == st2.stats.station:\n",
    "                                st_ac += st1.copy()\n",
    "                                st_ac[i].stats.component = 'R'\n",
    "                                st_ac[i].data = st1.data * np.cos(azi[i]*dtr) + st2.data * np.sin(azi[i]*dtr)\n",
    "                                break\n",
    "\n",
    "                for st1 in st_b_N:\n",
    "                    if s[i] == st1.stats.station:\n",
    "                        for st2 in st_b_E:\n",
    "                            if s[i] == st2.stats.station:\n",
    "                                st_bc += st1.copy()\n",
    "                                st_bc[i].stats.component = 'R'\n",
    "                                st_bc[i].data = st1.data * np.cos(azi[i] * dtr) + st2.data * np.sin(azi[i] * dtr)\n",
    "                                break\n",
    "\n",
    "        else:\n",
    "\n",
    "            for i in range(n):\n",
    "\n",
    "                for st1 in st_a_N:\n",
    "                    if s[i] == st1.stats.station:\n",
    "                        for st2 in st_a_E:\n",
    "                            if s[i] == st2.stats.station:\n",
    "                                st_ac += st1.copy()\n",
    "                                st_ac[i].stats.component = 'T'\n",
    "                                st_ac[i].data = st1.data * np.sin(azi[i]*dtr) - st2.data * np.cos(azi[i]*dtr)\n",
    "                                break\n",
    "\n",
    "                for st1 in st_b_N:\n",
    "                    if s[i] == st1.stats.station:\n",
    "                        for st2 in st_b_E:\n",
    "                            if s[i] == st2.stats.station:\n",
    "                                st_bc += st1.copy()\n",
    "                                st_bc[i].stats.component = 'T'\n",
    "                                st_bc[i].data = st1.data * np.sin(azi[i] * dtr) - st2.data * np.cos(azi[i] * dtr)\n",
    "                                break\n",
    "\n",
    "    else:\n",
    "        st_a_NE = st_a.select(station=stn, component='N') + st_a.select(station=stn, component='E')\n",
    "        st_b_NE = st_b.select(station=stn, component='N') + st_b.select(station=stn, component='E')\n",
    "        st_ac  = st_a_NE.rotate('NE->RT').select(component=comp)\n",
    "        st_bc  = st_b_NE.rotate('NE->RT').select(component=comp)\n",
    "\n",
    "else:\n",
    "\n",
    "    st_ac = st_a.select(station=stn,component=comp)\n",
    "    st_bc = st_b.select(station=stn,component=comp)\n"
   ]
  },
  {
   "cell_type": "markdown",
   "id": "6c3bd051",
   "metadata": {},
   "source": [
    "### SUGGESTION\n",
    "\n",
    "- Multiple copy-pasted code blocks with small changes == perfect place for a function\n",
    "- Avoid long nested if/for statements, it can quickly become difficult to follow the logic\n",
    "- You can condense if/or statements as follows:\n",
    "        if comp == 'R' or comp == 'T':\n",
    "        can be\n",
    "        if comp in [\"R\", \"T\"]:\n",
    "- When you do math, try to block things off visually according to PEMDAS, e.g., \n",
    "        st_ac[i].data = st1.data * np.sin(azi[i]*dtr) - st2.data * np.cos(azi[i]*dtr)\n",
    "        can be\n",
    "        st_ac[i].data = (st1.data * np.sin(azi[i]*dtr)) - (st2.data * np.cos(azi[i]*dtr))\n",
    "\n",
    "- Try to avoid trailing 'else' unless you really mean it. Else is a catch all so even if you get some unexpected parameter, you will still evaluate. e.g., comp==\"a/skldfjAKSe\" will still evaluate this, and probably break. \n",
    "        if comp in [\"R\", \"T\"]:\n",
    "            # some stuff\n",
    "        else:  # probably supposed to evaluate for comp == \"Z\"\n",
    "            # some other stuff\n",
    "            \n",
    "- Even if you know comp wont be \"a/skldfjAKSe\", it's best to write code that can handle a variety of cases, just in case. One option is to throw in assertions to check that things are correct:\n",
    "        assert(comp in [\"R\", \"T\", \"Z\"]), \"comp must be one of R, T, Z\"\n",
    "        if comp in [\"R\", \"T\"]:\n",
    "            # some stuff\n",
    "        elif comp == \"Z\":\n",
    "            # some other stuff\n",
    "        \n",
    "---------------------  \n",
    "*I'm not sure the code block logic below exactly matches the one above*"
   ]
  },
  {
   "cell_type": "code",
   "execution_count": 2,
   "id": "9fe3bfe8",
   "metadata": {},
   "outputs": [
    {
     "ename": "NameError",
     "evalue": "name 'st_a_N' is not defined",
     "output_type": "error",
     "traceback": [
      "\u001b[0;31m---------------------------------------------------------------------------\u001b[0m",
      "\u001b[0;31mNameError\u001b[0m                                 Traceback (most recent call last)",
      "\u001b[0;32m/tmp/ipykernel_44839/1388745400.py\u001b[0m in \u001b[0;36m<module>\u001b[0;34m\u001b[0m\n\u001b[0;32m----> 1\u001b[0;31m \u001b[0;32mfor\u001b[0m \u001b[0mst1\u001b[0m \u001b[0;32min\u001b[0m \u001b[0mst_a_N\u001b[0m\u001b[0;34m:\u001b[0m\u001b[0;34m\u001b[0m\u001b[0;34m\u001b[0m\u001b[0m\n\u001b[0m\u001b[1;32m      2\u001b[0m     \u001b[0;32mif\u001b[0m \u001b[0ms\u001b[0m\u001b[0;34m[\u001b[0m\u001b[0mi\u001b[0m\u001b[0;34m]\u001b[0m \u001b[0;34m==\u001b[0m \u001b[0mst1\u001b[0m\u001b[0;34m.\u001b[0m\u001b[0mstats\u001b[0m\u001b[0;34m.\u001b[0m\u001b[0mstation\u001b[0m\u001b[0;34m:\u001b[0m\u001b[0;34m\u001b[0m\u001b[0;34m\u001b[0m\u001b[0m\n\u001b[1;32m      3\u001b[0m         \u001b[0;32mfor\u001b[0m \u001b[0mst2\u001b[0m \u001b[0;32min\u001b[0m \u001b[0mst_a_E\u001b[0m\u001b[0;34m:\u001b[0m\u001b[0;34m\u001b[0m\u001b[0;34m\u001b[0m\u001b[0m\n\u001b[1;32m      4\u001b[0m             \u001b[0;32mif\u001b[0m \u001b[0ms\u001b[0m\u001b[0;34m[\u001b[0m\u001b[0mi\u001b[0m\u001b[0;34m]\u001b[0m \u001b[0;34m==\u001b[0m \u001b[0mst2\u001b[0m\u001b[0;34m.\u001b[0m\u001b[0mstats\u001b[0m\u001b[0;34m.\u001b[0m\u001b[0mstation\u001b[0m\u001b[0;34m:\u001b[0m\u001b[0;34m\u001b[0m\u001b[0;34m\u001b[0m\u001b[0m\n\u001b[1;32m      5\u001b[0m                 \u001b[0mst_ac\u001b[0m \u001b[0;34m+=\u001b[0m \u001b[0mst1\u001b[0m\u001b[0;34m.\u001b[0m\u001b[0mcopy\u001b[0m\u001b[0;34m(\u001b[0m\u001b[0;34m)\u001b[0m\u001b[0;34m\u001b[0m\u001b[0;34m\u001b[0m\u001b[0m\n",
      "\u001b[0;31mNameError\u001b[0m: name 'st_a_N' is not defined"
     ]
    }
   ],
   "source": [
    "def rotate_stream_utm(st, station, azimuth, component):\n",
    "    \"\"\"\n",
    "    Rotate data in an ObsPy stream based on a given azimuth and return a new stream,\n",
    "    used for when stream data is in UTM components\n",
    "    \n",
    "    :type st: obspy.core.stream.Stream\n",
    "    :param st: Stream object containing data\n",
    "    :type azimuth: float\n",
    "    :param azimuth: azimuth value in units of degrees\n",
    "    :type component: str\n",
    "    :param component: \n",
    "    \"\"\"    \n",
    "    st_north = st.select(station=station, component=\"Y\")\n",
    "    st_east = st.select(station=station, component=\"X\")\n",
    "    \n",
    "    rot_north = np.sin(azimuth * DEGREES_TO_RADIANS)\n",
    "    rot_east = np.cos(azimuth * DEGREES_TO_RADIANS)\n",
    "    \n",
    "    if component == \"R\":\n",
    "        rotated_data = (st_north[0].data * rot_north) + (st_east[0].data * rot_east)\n",
    "    elif component == \"T\":\n",
    "        rotated_data = (st_north[0].data * rot_north) - (st_east[0].data * rot_east)\n",
    "        \n",
    "    st_rotated = st_north.copy()\n",
    "    st_rotated.data = rotated_data\n",
    "    \n",
    "    return st_rotated"
   ]
  },
  {
   "cell_type": "code",
   "execution_count": null,
   "id": "a4a2a05e",
   "metadata": {},
   "outputs": [],
   "source": []
  },
  {
   "cell_type": "code",
   "execution_count": null,
   "id": "344da3bb",
   "metadata": {},
   "outputs": [],
   "source": []
  }
 ],
 "metadata": {
  "kernelspec": {
   "display_name": "Python 3 (ipykernel)",
   "language": "python",
   "name": "python3"
  },
  "language_info": {
   "codemirror_mode": {
    "name": "ipython",
    "version": 3
   },
   "file_extension": ".py",
   "mimetype": "text/x-python",
   "name": "python",
   "nbconvert_exporter": "python",
   "pygments_lexer": "ipython3",
   "version": "3.7.12"
  }
 },
 "nbformat": 4,
 "nbformat_minor": 5
}
